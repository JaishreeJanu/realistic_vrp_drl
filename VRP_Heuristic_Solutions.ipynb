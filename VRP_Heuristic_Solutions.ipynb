{
 "cells": [
  {
   "cell_type": "code",
   "execution_count": null,
   "id": "48055754-751e-4c39-9c7a-70d03dd6ff59",
   "metadata": {
    "execution": {
     "iopub.status.busy": "2023-03-22T22:12:02.229046Z",
     "iopub.status.idle": "2023-03-22T22:12:02.229452Z",
     "shell.execute_reply": "2023-03-22T22:12:02.229291Z",
     "shell.execute_reply.started": "2023-03-22T22:12:02.229263Z"
    }
   },
   "outputs": [],
   "source": [
    "# pip install https://github.com/yorak/VeRyPy/zipball/master\n",
    "\n",
    "from verypy.cvrp_io import read_TSPLIB_CVRP\n",
    "from verypy.classic_heuristics.parallel_savings import parallel_savings_init\n",
    "from verypy.util import sol2routes, sol2edgeset"
   ]
  },
  {
   "cell_type": "code",
   "execution_count": null,
   "id": "59eb985e-5c30-4b25-a567-c496e1691604",
   "metadata": {
    "execution": {
     "iopub.status.busy": "2023-03-22T22:12:02.230961Z",
     "iopub.status.idle": "2023-03-22T22:12:02.231326Z",
     "shell.execute_reply": "2023-03-22T22:12:02.231153Z",
     "shell.execute_reply.started": "2023-03-22T22:12:02.231136Z"
    }
   },
   "outputs": [],
   "source": [
    "import os \n",
    "import sys\n",
    "import random\n",
    "import argparse\n",
    "from datetime import datetime\n",
    "import warnings\n",
    "warnings.simplefilter('ignore')\n",
    "\n",
    "\n",
    "import gym\n",
    "from gym import spaces\n",
    "\n",
    "import numpy as np\n",
    "import pandas as pd\n",
    "\n",
    "import matplotlib.pyplot as plt\n",
    "import pickle"
   ]
  },
  {
   "cell_type": "code",
   "execution_count": null,
   "id": "7f9056d3-d737-4c0b-8d95-f217dcbdf50b",
   "metadata": {
    "execution": {
     "iopub.status.busy": "2023-03-22T22:12:02.232725Z",
     "iopub.status.idle": "2023-03-22T22:12:02.233138Z",
     "shell.execute_reply": "2023-03-22T22:12:02.232944Z",
     "shell.execute_reply.started": "2023-03-22T22:12:02.232915Z"
    }
   },
   "outputs": [],
   "source": [
    "train_data_path = \"./data/train/\"+ f\"train_graphs_10000x10.pickle\"\n",
    "test_data_path = \"./data/test/\"+ f\"test_graphs_dynamic_10000x10.pickle\"\n",
    "\n",
    "#with open(train_data_path, 'rb') as train_handle:\n",
    "    #load_train_graphs = pickle.load(train_handle)\n",
    "    \n",
    "with open(test_data_path, 'rb') as test_handle:\n",
    "    load_test_graphs = pickle.load(test_handle)  "
   ]
  },
  {
   "cell_type": "code",
   "execution_count": null,
   "id": "c880267a-276c-49b4-a38f-44b5e828e1bc",
   "metadata": {
    "execution": {
     "iopub.status.busy": "2023-03-22T22:12:02.234434Z",
     "iopub.status.idle": "2023-03-22T22:12:02.234736Z",
     "shell.execute_reply": "2023-03-22T22:12:02.234600Z",
     "shell.execute_reply.started": "2023-03-22T22:12:02.234583Z"
    }
   },
   "outputs": [],
   "source": [
    "# A peak into generated instances\n",
    "\n",
    "#print(f\"# of Training graphs: {len(load_train_graphs)}\")\n",
    "print(f\"# of Test graphs: {len(load_test_graphs)}\")\n",
    "\n",
    "n = 10\n",
    "#print(\"\\n\", load_train_graphs[n][\"node_features\"])\n",
    "print(\"\\n\", load_test_graphs[n][\"node_features\"])"
   ]
  },
  {
   "cell_type": "code",
   "execution_count": null,
   "id": "836faf4b-02b6-4920-b268-2167dc65403b",
   "metadata": {
    "execution": {
     "iopub.status.busy": "2023-03-22T22:12:02.235867Z",
     "iopub.status.idle": "2023-03-22T22:12:02.236231Z",
     "shell.execute_reply": "2023-03-22T22:12:02.236096Z",
     "shell.execute_reply.started": "2023-03-22T22:12:02.236078Z"
    }
   },
   "outputs": [],
   "source": [
    "def sol2length(solution, distance_matrix):\n",
    "    tour_len = 0\n",
    "    sol_edges = [(solution[i], solution[i+1]) for i in range(len(solution) - 1)]\n",
    "    for edge in sol_edges:\n",
    "        tour_len += distance_matrix[edge[0], edge[1]]\n",
    "    return float(tour_len)\n",
    "\n",
    "\n",
    "def solve_graph(graph_data):\n",
    "    #Derive graph data in required format\n",
    "    distances = graph_data[\"edge_features\"]\n",
    "    demands = graph_data[\"node_features\"][:, 2]\n",
    "    solution = parallel_savings_init(D=distances, d=demands, C=1)\n",
    "    cost = sol2length(solution, distances)\n",
    "    return solution, cost"
   ]
  },
  {
   "cell_type": "code",
   "execution_count": null,
   "id": "61495b34-6fff-4219-ae5d-22da1dc17760",
   "metadata": {
    "execution": {
     "iopub.status.busy": "2023-03-22T22:12:02.237173Z",
     "iopub.status.idle": "2023-03-22T22:12:02.237486Z",
     "shell.execute_reply": "2023-03-22T22:12:02.237352Z",
     "shell.execute_reply.started": "2023-03-22T22:12:02.237335Z"
    }
   },
   "outputs": [],
   "source": [
    "test = load_test_graphs[10]\n",
    "solution, cost = solve_graph(test)\n",
    "\n",
    "for route_idx, route in enumerate(sol2routes(solution)):\n",
    "    print(\"Route #%d : %s\"%(route_idx+1, route))"
   ]
  },
  {
   "cell_type": "code",
   "execution_count": null,
   "id": "dc21a622-32a6-4ea8-8184-02a7b95c032a",
   "metadata": {
    "execution": {
     "iopub.status.busy": "2023-03-22T22:12:02.238616Z",
     "iopub.status.idle": "2023-03-22T22:12:02.238928Z",
     "shell.execute_reply": "2023-03-22T22:12:02.238793Z",
     "shell.execute_reply.started": "2023-03-22T22:12:02.238777Z"
    }
   },
   "outputs": [],
   "source": [
    "print(solution)\n",
    "print(cost)"
   ]
  },
  {
   "cell_type": "code",
   "execution_count": null,
   "id": "f87697ef-5d88-44a6-aa5e-a4179fcbfd07",
   "metadata": {},
   "outputs": [],
   "source": []
  },
  {
   "cell_type": "code",
   "execution_count": null,
   "id": "288497e0-aaa2-4094-99b7-1662fa7c617a",
   "metadata": {
    "execution": {
     "iopub.status.busy": "2023-03-22T22:12:02.240484Z",
     "iopub.status.idle": "2023-03-22T22:12:02.240840Z",
     "shell.execute_reply": "2023-03-22T22:12:02.240698Z",
     "shell.execute_reply.started": "2023-03-22T22:12:02.240679Z"
    }
   },
   "outputs": [],
   "source": [
    "# Evaluating on entire dataset and storing results in a df\n",
    "\n",
    "graph_solutions = []\n",
    "\n",
    "for idx, graph in enumerate(load_test_graphs):\n",
    "    if idx%500 == 0:\n",
    "        print(f\"solved {idx} graphs\")\n",
    "    solution, cost = solve_graph(graph)\n",
    "    graph_solution = {\"idx\": idx, \"solution\": solution, \"cost\": cost}\n",
    "    graph_solutions.append(graph_solution)\n",
    "    \n",
    "\n",
    "eval_df_cols = graph_solution.keys()\n",
    "eval_df = pd.DataFrame(graph_solutions, columns = eval_df_cols)"
   ]
  },
  {
   "cell_type": "code",
   "execution_count": null,
   "id": "f4fa1385-3425-4049-89dc-1bdbfdc55637",
   "metadata": {
    "execution": {
     "iopub.status.busy": "2023-03-22T22:12:02.242193Z",
     "iopub.status.idle": "2023-03-22T22:12:02.242554Z",
     "shell.execute_reply": "2023-03-22T22:12:02.242407Z",
     "shell.execute_reply.started": "2023-03-22T22:12:02.242388Z"
    }
   },
   "outputs": [],
   "source": [
    "eval_df.head()"
   ]
  },
  {
   "cell_type": "code",
   "execution_count": null,
   "id": "fffff4ba-6905-4793-ae41-4750b1f2caac",
   "metadata": {
    "execution": {
     "iopub.status.busy": "2023-03-22T22:12:02.243910Z",
     "iopub.status.idle": "2023-03-22T22:12:02.244468Z",
     "shell.execute_reply": "2023-03-22T22:12:02.244318Z",
     "shell.execute_reply.started": "2023-03-22T22:12:02.244298Z"
    }
   },
   "outputs": [],
   "source": [
    "res_path = \"./trained_models/results/\"\n",
    "eval_df.to_csv(res_path + f\"eval_df_cls_d10\", index=False)"
   ]
  },
  {
   "cell_type": "code",
   "execution_count": null,
   "id": "3aa2c35d-b818-4442-87eb-2b34a3ef9f35",
   "metadata": {},
   "outputs": [],
   "source": []
  }
 ],
 "metadata": {
  "kernelspec": {
   "display_name": "Python 3 (ipykernel)",
   "language": "python",
   "name": "python3"
  },
  "language_info": {
   "codemirror_mode": {
    "name": "ipython",
    "version": 3
   },
   "file_extension": ".py",
   "mimetype": "text/x-python",
   "name": "python",
   "nbconvert_exporter": "python",
   "pygments_lexer": "ipython3",
   "version": "3.9.16"
  }
 },
 "nbformat": 4,
 "nbformat_minor": 5
}
