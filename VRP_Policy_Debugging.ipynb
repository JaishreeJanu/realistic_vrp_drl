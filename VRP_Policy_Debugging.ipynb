{
 "cells": [
  {
   "cell_type": "code",
   "execution_count": 1,
   "metadata": {},
   "outputs": [
    {
     "name": "stderr",
     "output_type": "stream",
     "text": [
      "C:\\Users\\Jatin\\anaconda3\\lib\\site-packages\\numba\\core\\types\\__init__.py:108: DeprecationWarning: `np.long` is a deprecated alias for `np.compat.long`. To silence this warning, use `np.compat.long` by itself. In the likely event your code does not need to work on Python 2 you can use the builtin `int` for which `np.compat.long` is itself an alias. Doing this will not modify any behaviour and is safe. When replacing `np.long`, you may wish to use e.g. `np.int64` or `np.int32` to specify the precision. If you wish to review your current use, check the release note link for additional information.\n",
      "Deprecated in NumPy 1.20; for more details and guidance: https://numpy.org/devdocs/release/1.20.0-notes.html#deprecations\n",
      "  long_ = _make_signed(np.long)\n"
     ]
    }
   ],
   "source": [
    "# Importing required libraries\n",
    "\n",
    "import os \n",
    "import sys\n",
    "import random\n",
    "import argparse\n",
    "import warnings\n",
    "warnings.simplefilter('ignore')\n",
    "\n",
    "\n",
    "import gym\n",
    "from gym import spaces\n",
    "\n",
    "import numpy as np\n",
    "import pandas as pd\n",
    "\n",
    "import matplotlib.pyplot as plt\n",
    "import pickle\n",
    "from numba import njit\n",
    "\n",
    "import torch\n",
    "from torch.utils.data import DataLoader, Dataset\n",
    "from torch.utils.tensorboard import SummaryWriter\n"
   ]
  },
  {
   "cell_type": "code",
   "execution_count": 2,
   "metadata": {},
   "outputs": [
    {
     "name": "stderr",
     "output_type": "stream",
     "text": [
      "C:\\Users\\Jatin\\anaconda3\\lib\\site-packages\\ipykernel\\ipkernel.py:287: DeprecationWarning: `should_run_async` will not call `transform_cell` automatically in the future. Please pass the result to `transformed_cell` argument and any exception that happen during thetransform in `preprocessing_exc_tuple` in IPython 7.17 and above.\n",
      "  and should_run_async(code)\n",
      "C:\\Users\\Jatin\\anaconda3\\lib\\site-packages\\h5py\\__init__.py:46: DeprecationWarning: `np.typeDict` is a deprecated alias for `np.sctypeDict`.\n",
      "  from ._conv import register_converters as _register_converters\n"
     ]
    }
   ],
   "source": [
    "import tianshou\n",
    "from typing import Any, Callable, List, Optional, Tuple, Union, Dict\n",
    "from tianshou.env import DummyVectorEnv\n",
    "from tianshou.data import Batch, to_torch, to_torch_as\n",
    "from tianshou.policy import BasePolicy\n",
    "\n",
    "from tianshou.trainer import OnpolicyTrainer, onpolicy_trainer\n",
    "from tianshou.utils import TensorboardLogger\n",
    "\n",
    "\n",
    "from tianshou.env.worker import (\n",
    "    DummyEnvWorker,\n",
    "    EnvWorker,\n",
    "    RayEnvWorker,\n",
    "    SubprocEnvWorker,\n",
    ")"
   ]
  },
  {
   "cell_type": "code",
   "execution_count": 3,
   "metadata": {},
   "outputs": [
    {
     "name": "stderr",
     "output_type": "stream",
     "text": [
      "C:\\Users\\Jatin\\anaconda3\\lib\\site-packages\\ipykernel\\ipkernel.py:287: DeprecationWarning: `should_run_async` will not call `transform_cell` automatically in the future. Please pass the result to `transformed_cell` argument and any exception that happen during thetransform in `preprocessing_exc_tuple` in IPython 7.17 and above.\n",
      "  and should_run_async(code)\n"
     ]
    }
   ],
   "source": [
    "from env.VRPEnv import VRPEnv\n",
    "from data.Graph_Generator import OSM_graph\n",
    "from data.VRPCollector import Collector\n",
    "from data.BufferManager import ReplayBuffer, VectorReplayBuffer\n",
    "\n",
    "from nets.attention_model import AttentionModel\n",
    "from policy.VRPPolicy import REINFORCEPolicy"
   ]
  },
  {
   "cell_type": "code",
   "execution_count": 4,
   "metadata": {},
   "outputs": [
    {
     "name": "stderr",
     "output_type": "stream",
     "text": [
      "C:\\Users\\Jatin\\anaconda3\\lib\\site-packages\\ipykernel\\ipkernel.py:287: DeprecationWarning: `should_run_async` will not call `transform_cell` automatically in the future. Please pass the result to `transformed_cell` argument and any exception that happen during thetransform in `preprocessing_exc_tuple` in IPython 7.17 and above.\n",
      "  and should_run_async(code)\n"
     ]
    }
   ],
   "source": [
    "# Load the saved train and test graphs dataset\n",
    "\n",
    "train_data_path = \"./data/train/\"+\"train_graphs_nu_1000x10.pickle\"\n",
    "test_data_path = \"./data/test/\"+\"test_graphs_nu_100x10.pickle\"\n",
    "\n",
    "with open(train_data_path, 'rb') as train_handle:\n",
    "    load_train_graphs = pickle.load(train_handle)\n",
    "    \n",
    "with open(test_data_path, 'rb') as test_handle:\n",
    "    load_test_graphs = pickle.load(test_handle)  "
   ]
  },
  {
   "cell_type": "code",
   "execution_count": 5,
   "metadata": {},
   "outputs": [
    {
     "name": "stdout",
     "output_type": "stream",
     "text": [
      "# of Training graphs: 1000\n",
      "# of Test graphs: 100\n",
      "tensor([[1.0000, 0.0000, 0.0000, 0.3009, 0.3019],\n",
      "        [0.0000, 1.0000, 0.2600, 0.3019, 0.3017],\n",
      "        [0.0000, 1.0000, 0.1200, 0.2996, 0.3011],\n",
      "        [0.0000, 1.0000, 0.2400, 0.2996, 0.3017],\n",
      "        [0.0000, 1.0000, 0.1200, 0.3010, 0.3018],\n",
      "        [0.0000, 1.0000, 0.4600, 0.3005, 0.3012],\n",
      "        [0.0000, 1.0000, 0.2400, 0.3052, 0.3016],\n",
      "        [0.0000, 1.0000, 0.2700, 0.3019, 0.3013],\n",
      "        [0.0000, 1.0000, 0.3800, 0.3044, 0.3018],\n",
      "        [0.0000, 1.0000, 0.1000, 0.3002, 0.3012],\n",
      "        [0.0000, 1.0000, 0.4800, 0.3014, 0.3014]])\n",
      "\n",
      " tensor([[1.0000, 0.0000, 0.0000, 0.3019, 0.3018],\n",
      "        [0.0000, 1.0000, 0.1800, 0.3014, 0.3017],\n",
      "        [0.0000, 1.0000, 0.4600, 0.3001, 0.3015],\n",
      "        [0.0000, 1.0000, 0.4100, 0.2997, 0.3017],\n",
      "        [0.0000, 1.0000, 0.1100, 0.3048, 0.3010],\n",
      "        [0.0000, 1.0000, 0.3000, 0.3006, 0.3015],\n",
      "        [0.0000, 1.0000, 0.5300, 0.3014, 0.3018],\n",
      "        [0.0000, 1.0000, 0.2200, 0.3023, 0.3015],\n",
      "        [0.0000, 1.0000, 0.1100, 0.3055, 0.3012],\n",
      "        [0.0000, 1.0000, 0.2300, 0.2997, 0.3015],\n",
      "        [0.0000, 1.0000, 0.1300, 0.2990, 0.3015]])\n"
     ]
    }
   ],
   "source": [
    "print(f\"# of Training graphs: {len(load_train_graphs)}\")\n",
    "print(f\"# of Test graphs: {len(load_test_graphs)}\")\n",
    "\n",
    "n = 10\n",
    "print(load_train_graphs[n][\"node_features\"])\n",
    "print(\"\\n\", load_test_graphs[n][\"node_features\"])"
   ]
  },
  {
   "cell_type": "code",
   "execution_count": 6,
   "metadata": {},
   "outputs": [],
   "source": [
    "# Setting up Vectorized environments for train and test datasets\n",
    "\n",
    "train_envs = DummyVectorEnv([lambda instance=graph, idx=i: VRPEnv(instance, idx) for i,graph in enumerate(load_train_graphs)])\n",
    "test_envs = DummyVectorEnv([lambda instance=graph, idx=i: VRPEnv(instance, idx) for i,graph in enumerate(load_test_graphs)])"
   ]
  },
  {
   "cell_type": "code",
   "execution_count": 7,
   "metadata": {},
   "outputs": [
    {
     "name": "stderr",
     "output_type": "stream",
     "text": [
      "C:\\Users\\Jatin\\anaconda3\\lib\\site-packages\\numba\\np\\arraymath.py:3806: DeprecationWarning: `np.MachAr` is deprecated (NumPy 1.22).\n",
      "  @overload(np.MachAr)\n",
      "C:\\Users\\Jatin\\anaconda3\\lib\\site-packages\\numba\\core\\ir_utils.py:1525: DeprecationWarning: `np.bool` is a deprecated alias for the builtin `bool`. To silence this warning, use `bool` by itself. Doing this will not modify any behavior and is safe. If you specifically wanted the numpy scalar type, use `np.bool_` here.\n",
      "Deprecated in NumPy 1.20; for more details and guidance: https://numpy.org/devdocs/release/1.20.0-notes.html#deprecations\n",
      "  if (hasattr(numpy, value)\n",
      "C:\\Users\\Jatin\\anaconda3\\lib\\site-packages\\numba\\core\\ir_utils.py:1525: DeprecationWarning: `np.bool` is a deprecated alias for the builtin `bool`. To silence this warning, use `bool` by itself. Doing this will not modify any behavior and is safe. If you specifically wanted the numpy scalar type, use `np.bool_` here.\n",
      "Deprecated in NumPy 1.20; for more details and guidance: https://numpy.org/devdocs/release/1.20.0-notes.html#deprecations\n",
      "  if (hasattr(numpy, value)\n",
      "C:\\Users\\Jatin\\anaconda3\\lib\\site-packages\\numba\\core\\ir_utils.py:1525: DeprecationWarning: `np.bool` is a deprecated alias for the builtin `bool`. To silence this warning, use `bool` by itself. Doing this will not modify any behavior and is safe. If you specifically wanted the numpy scalar type, use `np.bool_` here.\n",
      "Deprecated in NumPy 1.20; for more details and guidance: https://numpy.org/devdocs/release/1.20.0-notes.html#deprecations\n",
      "  if (hasattr(numpy, value)\n",
      "C:\\Users\\Jatin\\anaconda3\\lib\\site-packages\\numba\\core\\ir_utils.py:1525: DeprecationWarning: `np.bool` is a deprecated alias for the builtin `bool`. To silence this warning, use `bool` by itself. Doing this will not modify any behavior and is safe. If you specifically wanted the numpy scalar type, use `np.bool_` here.\n",
      "Deprecated in NumPy 1.20; for more details and guidance: https://numpy.org/devdocs/release/1.20.0-notes.html#deprecations\n",
      "  if (hasattr(numpy, value)\n"
     ]
    }
   ],
   "source": [
    "model = AttentionModel(\n",
    "        embedding_dim=64,\n",
    "        hidden_dim=16,\n",
    "        n_encode_layers=2,\n",
    "        tanh_clipping=10.,\n",
    "        mask_inner=True, \n",
    "        mask_logits=True,\n",
    "        normalization='batch',\n",
    "        n_heads=8,\n",
    "        checkpoint_encoder=False,\n",
    "        shrink_size=None\n",
    "    )\n",
    "\n",
    "\n",
    "optim = torch.optim.Adam(model.parameters(), lr=0.00001)\n",
    "VRPpolicy = REINFORCEPolicy(model, optim)"
   ]
  },
  {
   "cell_type": "code",
   "execution_count": 8,
   "metadata": {},
   "outputs": [
    {
     "name": "stderr",
     "output_type": "stream",
     "text": [
      "C:\\Users\\Jatin\\anaconda3\\lib\\site-packages\\ipykernel\\ipkernel.py:287: DeprecationWarning: `should_run_async` will not call `transform_cell` automatically in the future. Please pass the result to `transformed_cell` argument and any exception that happen during thetransform in `preprocessing_exc_tuple` in IPython 7.17 and above.\n",
      "  and should_run_async(code)\n"
     ]
    },
    {
     "data": {
      "text/plain": [
       "tensor([[ -0.0000, -32.1157, -16.7518,  -5.5887, -24.2328, -17.4735,  -4.0078,\n",
       "          -6.8287,  -5.2380,  -4.3609,  -7.5235],\n",
       "        [-34.2876,  -0.0000, -48.0456, -23.9146, -11.0286, -44.7945, -37.1529,\n",
       "         -28.9573, -43.3069, -31.5637, -33.8855],\n",
       "        [-16.5722, -45.7372,  -0.0000, -21.9506, -37.8543, -28.3257, -13.0659,\n",
       "         -22.1283, -12.9903, -17.9547, -18.1834],\n",
       "        [ -5.4611, -23.4132, -21.9878,  -0.0000, -13.7675, -17.7903,  -9.2438,\n",
       "          -6.8447, -10.3153,  -8.1392, -10.4610],\n",
       "        [-24.1986, -11.0326, -37.9567, -13.8256,  -0.0000, -27.2828, -27.0639,\n",
       "         -17.2468, -33.2179, -21.4747, -23.7966],\n",
       "        [-17.5278, -43.3740, -28.4183, -18.2265, -37.4426,  -0.0000, -19.0960,\n",
       "         -11.2965, -16.5368, -21.5281, -24.9208],\n",
       "        [ -3.8145, -34.8929, -12.9117,  -9.1929, -27.0100, -19.1639,  -0.0000,\n",
       "          -9.4733,  -3.9865,  -7.1105,  -7.3916],\n",
       "        [ -6.8463, -28.9124, -22.1851,  -7.2146, -17.4165, -11.2231,  -9.3955,\n",
       "          -0.0000,  -9.0273, -10.8465, -13.9052],\n",
       "        [ -4.8526, -60.7548, -13.1832, -10.1567, -33.3352, -16.4072,  -3.7348,\n",
       "          -8.5870,  -0.0000, -13.4357, -13.6644],\n",
       "        [ -4.5434, -29.4668, -18.3255,  -9.4152, -21.5839, -21.8690,  -7.4328,\n",
       "         -11.2243, -13.5868,  -0.0000,  -2.2129],\n",
       "        [ -6.5356, -31.4364, -18.3015, -11.3848, -23.5535, -25.6548,  -7.4649,\n",
       "         -14.7076, -13.5627,  -2.2471,  -0.0000]])"
      ]
     },
     "execution_count": 8,
     "metadata": {},
     "output_type": "execute_result"
    }
   ],
   "source": [
    "init_obs = Batch(test_envs.reset())\n",
    "init_obs.edge_features[-1]"
   ]
  },
  {
   "cell_type": "code",
   "execution_count": 9,
   "metadata": {},
   "outputs": [],
   "source": [
    "#test_envs.reset()\n",
    "#obs_next = init_obs\n",
    "#solved = False\n",
    "#i = 0\n",
    "#while not solved:\n",
    "##for _ in range (20):\n",
    "#    print(f\"\\nIter {i}------------------------------------------------\")\n",
    "#    action2 = VRPpolicy(obs_next)\n",
    "#    result2 = test_envs.step(action2.act)\n",
    "#    obs_next, rew, done, info = result2\n",
    "#    obs_next = Batch(obs_next)\n",
    "#    print(done)\n",
    "#    print(obs_next)\n",
    "#    solved = done.all()\n",
    "#    #print(obs_next[\"curr_pos_idx\"])"
   ]
  },
  {
   "cell_type": "code",
   "execution_count": 10,
   "metadata": {},
   "outputs": [
    {
     "name": "stderr",
     "output_type": "stream",
     "text": [
      "C:\\Users\\Jatin\\anaconda3\\lib\\site-packages\\numba\\core\\ir_utils.py:1525: DeprecationWarning: `np.bool` is a deprecated alias for the builtin `bool`. To silence this warning, use `bool` by itself. Doing this will not modify any behavior and is safe. If you specifically wanted the numpy scalar type, use `np.bool_` here.\n",
      "Deprecated in NumPy 1.20; for more details and guidance: https://numpy.org/devdocs/release/1.20.0-notes.html#deprecations\n",
      "  if (hasattr(numpy, value)\n",
      "C:\\Users\\Jatin\\anaconda3\\lib\\site-packages\\numba\\core\\ir_utils.py:1525: DeprecationWarning: `np.bool` is a deprecated alias for the builtin `bool`. To silence this warning, use `bool` by itself. Doing this will not modify any behavior and is safe. If you specifically wanted the numpy scalar type, use `np.bool_` here.\n",
      "Deprecated in NumPy 1.20; for more details and guidance: https://numpy.org/devdocs/release/1.20.0-notes.html#deprecations\n",
      "  if (hasattr(numpy, value)\n",
      "C:\\Users\\Jatin\\anaconda3\\lib\\site-packages\\numba\\core\\ir_utils.py:1525: DeprecationWarning: `np.bool` is a deprecated alias for the builtin `bool`. To silence this warning, use `bool` by itself. Doing this will not modify any behavior and is safe. If you specifically wanted the numpy scalar type, use `np.bool_` here.\n",
      "Deprecated in NumPy 1.20; for more details and guidance: https://numpy.org/devdocs/release/1.20.0-notes.html#deprecations\n",
      "  if (hasattr(numpy, value)\n",
      "C:\\Users\\Jatin\\anaconda3\\lib\\site-packages\\numba\\core\\ir_utils.py:1525: DeprecationWarning: `np.bool` is a deprecated alias for the builtin `bool`. To silence this warning, use `bool` by itself. Doing this will not modify any behavior and is safe. If you specifically wanted the numpy scalar type, use `np.bool_` here.\n",
      "Deprecated in NumPy 1.20; for more details and guidance: https://numpy.org/devdocs/release/1.20.0-notes.html#deprecations\n",
      "  if (hasattr(numpy, value)\n",
      "C:\\Users\\Jatin\\anaconda3\\lib\\site-packages\\numba\\core\\ir_utils.py:1525: DeprecationWarning: `np.bool` is a deprecated alias for the builtin `bool`. To silence this warning, use `bool` by itself. Doing this will not modify any behavior and is safe. If you specifically wanted the numpy scalar type, use `np.bool_` here.\n",
      "Deprecated in NumPy 1.20; for more details and guidance: https://numpy.org/devdocs/release/1.20.0-notes.html#deprecations\n",
      "  if (hasattr(numpy, value)\n",
      "C:\\Users\\Jatin\\anaconda3\\lib\\site-packages\\numba\\core\\ir_utils.py:1525: DeprecationWarning: `np.bool` is a deprecated alias for the builtin `bool`. To silence this warning, use `bool` by itself. Doing this will not modify any behavior and is safe. If you specifically wanted the numpy scalar type, use `np.bool_` here.\n",
      "Deprecated in NumPy 1.20; for more details and guidance: https://numpy.org/devdocs/release/1.20.0-notes.html#deprecations\n",
      "  if (hasattr(numpy, value)\n"
     ]
    },
    {
     "name": "stdout",
     "output_type": "stream",
     "text": [
      "VectorReplayBuffer()\n",
      "Collector reset!\n",
      "VectorReplayBuffer()\n",
      "Collector reset!\n"
     ]
    }
   ],
   "source": [
    "buffer_size = 100000\n",
    "\n",
    "\n",
    "test_replaybuffer = VectorReplayBuffer(buffer_size, buffer_num=len(load_test_graphs))\n",
    "train_replaybuffer = VectorReplayBuffer(buffer_size, buffer_num=len(load_train_graphs))\n",
    "\n",
    "test_collector = Collector(VRPpolicy, test_envs, test_replaybuffer)\n",
    "train_collector = Collector(VRPpolicy, train_envs, train_replaybuffer)"
   ]
  },
  {
   "cell_type": "code",
   "execution_count": 11,
   "metadata": {},
   "outputs": [
    {
     "name": "stderr",
     "output_type": "stream",
     "text": [
      "C:\\Users\\Jatin\\anaconda3\\lib\\site-packages\\ipykernel\\ipkernel.py:287: DeprecationWarning: `should_run_async` will not call `transform_cell` automatically in the future. Please pass the result to `transformed_cell` argument and any exception that happen during thetransform in `preprocessing_exc_tuple` in IPython 7.17 and above.\n",
      "  and should_run_async(code)\n"
     ]
    },
    {
     "name": "stdout",
     "output_type": "stream",
     "text": [
      "{'n/ep': 10, 'n/st': 130, 'rews': array([-118.56819916, -123.47800064, -151.58570051,  -68.28569961,\n",
      "       -134.17100143, -122.25099969, -141.29860353, -175.48810005,\n",
      "       -144.99900389, -140.45909989]), 'bl_rews': array([ -57.30839884,  -78.69490027,  -89.54709959,  -47.11660004,\n",
      "        -91.2872982 ,  -79.67569995,  -87.18690085,  -98.10980082,\n",
      "       -101.1696035 ,  -87.31719744]), 'lens': array([13, 13, 13, 13, 13, 13, 13, 13, 13, 13]), 'idxs': array([   0, 1000, 2000, 3000, 4000, 5000, 6000, 7000, 8000, 9000]), 'rew': -132.0584408402443, 'bl_rew': -81.74134995043278, 'len': 13.0, 'rew_std': 26.48411020587299, 'len_std': 0.0}\n",
      "\n",
      "Rewards of all episodes are [-118.56819916 -123.47800064 -151.58570051  -68.28569961 -134.17100143\n",
      " -122.25099969 -141.29860353 -175.48810005 -144.99900389 -140.45909989]\n",
      "\n",
      "Average episode reward is -132.0584408402443.\n",
      "\n",
      "Average episode length is 13.0.\n"
     ]
    }
   ],
   "source": [
    "# Test run for collector\n",
    "\n",
    "collect_result = test_collector.collect(n_episode=10)\n",
    "print(collect_result)\n",
    "print(\"\\nRewards of all episodes are {}\".format(collect_result[\"rews\"]))\n",
    "print(\"\\nAverage episode reward is {}.\".format(collect_result[\"rew\"]))\n",
    "print(\"\\nAverage episode length is {}.\".format(collect_result[\"len\"]))"
   ]
  }
 ],
 "metadata": {
  "kernelspec": {
   "display_name": "Python 3",
   "language": "python",
   "name": "python3"
  },
  "language_info": {
   "codemirror_mode": {
    "name": "ipython",
    "version": 3
   },
   "file_extension": ".py",
   "mimetype": "text/x-python",
   "name": "python",
   "nbconvert_exporter": "python",
   "pygments_lexer": "ipython3",
   "version": "3.8.5"
  }
 },
 "nbformat": 4,
 "nbformat_minor": 4
}
