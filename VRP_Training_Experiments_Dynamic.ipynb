{
 "cells": [
  {
   "cell_type": "code",
   "execution_count": 1,
   "metadata": {},
   "outputs": [],
   "source": [
    "#! pip install overpy  \n",
    "#! pip install routingpy\n",
    "#! pip install gym\n",
    "#! pip install tianshou\n",
    "#! pip install ray\n",
    "#! pip install torch\n",
    "#! pip install scipy\n",
    "#! pip install matplotlib"
   ]
  },
  {
   "cell_type": "code",
   "execution_count": null,
   "metadata": {},
   "outputs": [],
   "source": []
  },
  {
   "cell_type": "code",
   "execution_count": 2,
   "metadata": {},
   "outputs": [],
   "source": [
    "# Importing required libraries\n",
    "\n",
    "import os \n",
    "import sys\n",
    "import random\n",
    "import argparse\n",
    "from datetime import datetime\n",
    "import warnings\n",
    "warnings.simplefilter('ignore')\n",
    "\n",
    "\n",
    "import gym\n",
    "from gym import spaces\n",
    "\n",
    "import numpy as np\n",
    "import pandas as pd\n",
    "\n",
    "import matplotlib.pyplot as plt\n",
    "import pickle\n",
    "\n",
    "import torch\n",
    "from torch.utils.data import DataLoader, Dataset\n",
    "from torch.utils.tensorboard import SummaryWriter\n"
   ]
  },
  {
   "cell_type": "code",
   "execution_count": 3,
   "metadata": {},
   "outputs": [
    {
     "data": {
      "text/plain": [
       "3000"
      ]
     },
     "execution_count": 3,
     "metadata": {},
     "output_type": "execute_result"
    }
   ],
   "source": [
    "sys.getrecursionlimit()"
   ]
  },
  {
   "cell_type": "code",
   "execution_count": 4,
   "metadata": {},
   "outputs": [],
   "source": [
    "# Modules from tianshou framework\n",
    "\n",
    "import tianshou\n",
    "from typing import Any, Callable, List, Optional, Tuple, Union, Dict\n",
    "from tianshou.env import DummyVectorEnv\n",
    "from tianshou.data import Batch, to_torch, to_torch_as\n",
    "from tianshou.policy import BasePolicy\n",
    "from tianshou.utils import TensorboardLogger\n",
    "\n",
    "\n",
    "from tianshou.env.worker import (\n",
    "    DummyEnvWorker,\n",
    "    EnvWorker,\n",
    "    RayEnvWorker,\n",
    "    SubprocEnvWorker,\n",
    ")"
   ]
  },
  {
   "cell_type": "code",
   "execution_count": 5,
   "metadata": {},
   "outputs": [],
   "source": [
    "device = torch.device(\"cuda\" if torch.cuda.is_available() else \"cpu\")\n",
    "if device == \"cuda\":\n",
    "    torch.cuda.get_device_properties(device)"
   ]
  },
  {
   "cell_type": "code",
   "execution_count": 6,
   "metadata": {},
   "outputs": [],
   "source": [
    "# Derived modules and custom defined classes\n",
    "\n",
    "from env.VRPEnv import VRPEnv\n",
    "from policy.VRPPolicy import REINFORCEPolicy\n",
    "from nets.attention_model import AttentionModel\n",
    "\n",
    "\n",
    "from data.VRPCollector import Collector\n",
    "from data.BufferManager import ReplayBuffer, VectorReplayBuffer\n",
    "from policy.VRPtrainer import OnpolicyTrainer, onpolicy_trainer\n",
    "from data.Graph_Viz import decode_buffer, generate_tours, plot_vehicle_routes"
   ]
  },
  {
   "cell_type": "code",
   "execution_count": 7,
   "metadata": {},
   "outputs": [],
   "source": [
    "# Load the saved train and test graphs dataset\n",
    "graph_size = 10\n",
    "train_size = 10000\n",
    "test_size = 5000\n",
    "\n",
    "train_data_path = \"./data/train/\"+ f\"train_graphs_{train_size}x10.pickle\"\n",
    "test_data_path = \"./data/test/\"+ f\"test_graphs_{test_size}x10.pickle\"\n",
    "\n",
    "with open(train_data_path, 'rb') as train_handle:\n",
    "    load_train_graphs = pickle.load(train_handle)\n",
    "    \n",
    "with open(test_data_path, 'rb') as test_handle:\n",
    "    load_test_graphs = pickle.load(test_handle)  "
   ]
  },
  {
   "cell_type": "code",
   "execution_count": 8,
   "metadata": {},
   "outputs": [
    {
     "name": "stdout",
     "output_type": "stream",
     "text": [
      "# of Training graphs: 10000\n",
      "# of Test graphs: 5000\n",
      "\n",
      " tensor([[1.0000, 0.0000, 0.0000, 0.5469, 0.5050],\n",
      "        [0.0000, 1.0000, 0.2600, 0.6069, 0.4661],\n",
      "        [0.0000, 1.0000, 0.1700, 0.3745, 0.3965],\n",
      "        [0.0000, 1.0000, 0.3400, 0.2832, 0.5073],\n",
      "        [0.0000, 1.0000, 0.3800, 0.4615, 0.5906],\n",
      "        [0.0000, 1.0000, 0.3700, 0.7753, 0.5376],\n",
      "        [0.0000, 1.0000, 0.1300, 0.3504, 0.4703],\n",
      "        [0.0000, 1.0000, 0.4400, 0.4587, 0.5080],\n",
      "        [0.0000, 1.0000, 0.1900, 0.6147, 0.9906],\n",
      "        [0.0000, 1.0000, 0.2300, 0.3759, 0.4604],\n",
      "        [0.0000, 1.0000, 0.4800, 0.3809, 0.4205]])\n",
      "\n",
      " tensor([[1.0000, 0.0000, 0.0000, 0.4792, 0.4269],\n",
      "        [0.0000, 1.0000, 0.2200, 0.4267, 0.6768],\n",
      "        [0.0000, 1.0000, 0.1900, 0.3147, 0.4058],\n",
      "        [0.0000, 1.0000, 0.3500, 0.4274, 0.5287],\n",
      "        [0.0000, 1.0000, 0.2000, 0.6437, 0.1724],\n",
      "        [0.0000, 1.0000, 0.1500, 0.2154, 0.5051],\n",
      "        [0.0000, 1.0000, 0.4600, 0.3477, 0.4486],\n",
      "        [0.0000, 1.0000, 0.1300, 0.5217, 0.3877],\n",
      "        [0.0000, 1.0000, 0.3200, 0.5045, 0.3363],\n",
      "        [0.0000, 1.0000, 0.2600, 0.4205, 0.3884],\n",
      "        [0.0000, 1.0000, 0.1000, 0.5091, 0.6665]])\n"
     ]
    }
   ],
   "source": [
    "# A peak into generated instances\n",
    "\n",
    "print(f\"# of Training graphs: {len(load_train_graphs)}\")\n",
    "print(f\"# of Test graphs: {len(load_test_graphs)}\")\n",
    "\n",
    "n = 10\n",
    "print(\"\\n\", load_train_graphs[n][\"node_features\"])\n",
    "print(\"\\n\", load_test_graphs[n][\"node_features\"])"
   ]
  },
  {
   "cell_type": "code",
   "execution_count": 9,
   "metadata": {},
   "outputs": [],
   "source": [
    "# Setting up Vectorized environments for train and test datasets\n",
    "\n",
    "train_envs = DummyVectorEnv([lambda instance=graph, idx=i: VRPEnv(instance, idx) for i,graph in enumerate(load_train_graphs)])\n",
    "test_envs = DummyVectorEnv([lambda instance=graph, idx=i: VRPEnv(instance, idx) for i,graph in enumerate(load_test_graphs)])"
   ]
  },
  {
   "cell_type": "code",
   "execution_count": 10,
   "metadata": {},
   "outputs": [
    {
     "data": {
      "text/plain": [
       "{'experiment_idx': 104,\n",
       " 'learning_rate': 2.5e-05,\n",
       " 'betas': (0.9, 0.99),\n",
       " 'weight_decay': 0.005,\n",
       " 'n_epochs': 30,\n",
       " 'batch_size': 256,\n",
       " 'graph_size': 10,\n",
       " 'train_graphs': 10000,\n",
       " 'test_graphs': 5000,\n",
       " 'train_buffer_size': 1000000,\n",
       " 'test_buffer_size': 1000000,\n",
       " 'repeat_per_collect': 1,\n",
       " 'test_in_train': True,\n",
       " 'episode_per_collect': 10000,\n",
       " 'episode_per_test': 10000,\n",
       " 'step_per_epoch': 100000}"
      ]
     },
     "execution_count": 10,
     "metadata": {},
     "output_type": "execute_result"
    }
   ],
   "source": [
    "# Training parameters\n",
    "\n",
    "training_params = {\n",
    "    \"experiment_idx\" : 104,\n",
    "    \n",
    "    # Optimization\n",
    "    \"learning_rate\" : 0.000025,\n",
    "    \"betas\" : (0.9, 0.99), # coefficients used for computing running averages of gradient and its square\n",
    "    \"weight_decay\" : 0.005,  # weight decay coefficient for regularization\n",
    "    \"n_epochs\" : 30,\n",
    "    \"batch_size\" : 256,\n",
    "    \n",
    "    \n",
    "    # Trainer and Collector setup\n",
    "    \"graph_size\" : load_train_graphs[0][\"node_features\"].shape[0] - 1,\n",
    "    \"train_graphs\" : len(load_train_graphs),\n",
    "    \"test_graphs\" : len(load_test_graphs),\n",
    "    \"train_buffer_size\" : 1000000,\n",
    "    \"test_buffer_size\" : 1000000,\n",
    "    \"repeat_per_collect\" : 1,\n",
    "    \"test_in_train\" : True,\n",
    "    \n",
    "}\n",
    "\n",
    "training_params[\"episode_per_collect\"] = training_params[\"episode_per_test\"] = training_params[\"train_graphs\"]\n",
    "training_params[\"step_per_epoch\"] = training_params[\"graph_size\"] * training_params[\"train_graphs\"]\n",
    "training_params"
   ]
  },
  {
   "cell_type": "code",
   "execution_count": 11,
   "metadata": {},
   "outputs": [],
   "source": [
    "# Setup Model, Optimizer and Policy (Agent) \n",
    "\n",
    "model = AttentionModel(\n",
    "        embedding_dim=64,\n",
    "        hidden_dim=16,\n",
    "        graph_size = training_params[\"graph_size\"],\n",
    "        n_encode_layers=2,\n",
    "        tanh_clipping=10.,\n",
    "        mask_inner=True, \n",
    "        mask_logits=True,\n",
    "        normalization='batch',\n",
    "        n_heads=8,\n",
    "        checkpoint_encoder=False,\n",
    "        shrink_size=None)\n",
    "\n",
    "device = torch.device(\"cuda\" if torch.cuda.is_available() else \"cpu\")\n",
    "model.to(device)\n",
    "\n",
    "optim = torch.optim.AdamW(\n",
    "        model.parameters(), \n",
    "        lr=training_params[\"learning_rate\"],\n",
    "        betas=training_params[\"betas\"], \n",
    "        weight_decay=training_params[\"weight_decay\"],\n",
    "        eps=1e-08)\n",
    "\n",
    "\n",
    "VRPpolicy = REINFORCEPolicy(model, optim)"
   ]
  },
  {
   "cell_type": "code",
   "execution_count": 12,
   "metadata": {},
   "outputs": [
    {
     "name": "stdout",
     "output_type": "stream",
     "text": [
      "Collector reset!\n",
      "Collector reset!\n"
     ]
    }
   ],
   "source": [
    "# Setting up Replay Buffers and Collectors\n",
    "\n",
    "test_replaybuffer = VectorReplayBuffer(training_params[\"test_buffer_size\"], buffer_num=training_params[\"test_graphs\"])\n",
    "train_replaybuffer = VectorReplayBuffer(training_params[\"train_buffer_size\"], buffer_num=training_params[\"train_graphs\"])\n",
    "\n",
    "test_collector = Collector(VRPpolicy, test_envs, test_replaybuffer)\n",
    "train_collector = Collector(VRPpolicy, train_envs, train_replaybuffer)"
   ]
  },
  {
   "cell_type": "code",
   "execution_count": 13,
   "metadata": {},
   "outputs": [
    {
     "name": "stdout",
     "output_type": "stream",
     "text": [
      "Collector reset!\n",
      "Collector reset!\n"
     ]
    }
   ],
   "source": [
    "# Setting up trainer \n",
    "\n",
    "logdir = \"./logs/\"\n",
    "exp_num = training_params[\"experiment_idx\"]\n",
    "\n",
    "# Setup Tensorboard logger\n",
    "log_path = os.path.join(logdir, f\"VRPtraining_exp{exp_num}\")\n",
    "writer = SummaryWriter(log_path)\n",
    "logger = TensorboardLogger(writer)\n",
    "\n",
    "\n",
    "train_collector.reset()\n",
    "test_collector.reset()\n",
    "train_replaybuffer.reset()\n",
    "test_replaybuffer.reset()\n",
    "\n",
    "trainer = OnpolicyTrainer(\n",
    "    VRPpolicy,\n",
    "    train_collector,\n",
    "    test_collector,\n",
    "    max_epoch = training_params[\"n_epochs\"],\n",
    "    step_per_epoch = training_params[\"step_per_epoch\"],\n",
    "    repeat_per_collect = training_params[\"repeat_per_collect\"],\n",
    "    episode_per_test = training_params[\"episode_per_test\"],\n",
    "    episode_per_collect = training_params[\"episode_per_collect\"],\n",
    "    batch_size = training_params[\"batch_size\"],\n",
    "    logger=logger)"
   ]
  },
  {
   "cell_type": "code",
   "execution_count": 14,
   "metadata": {},
   "outputs": [
    {
     "name": "stderr",
     "output_type": "stream",
     "text": [
      "Epoch #1: 129569it [00:53, 2424.13it/s, bl_rew=78.11, env_step=129569, len=12, loss=-121.748, n/ep=10000, n/st=129569, rew=107.89]\n"
     ]
    },
    {
     "name": "stdout",
     "output_type": "stream",
     "text": [
      "Epoch #1: test_reward: 109.878345 ± 26.242150, best_reward: 106.623663 ± 24.557543 in #0\n",
      "Epoch: 1\n",
      "{'test_reward': 109.8783452, 'test_reward_std': 26.242149822224338, 'best_reward': 106.62366298, 'best_reward_std': 24.557542980627105, 'best_epoch': 0, 'loss': -121.74750923156738, 'gradient_step': 506, 'env_step': 129569, 'rew': 107.89272412000001, 'bl_rew': 78.11131017999999, 'len': 12, 'n/ep': 10000, 'n/st': 129569}\n",
      "\n",
      "\n"
     ]
    },
    {
     "name": "stderr",
     "output_type": "stream",
     "text": [
      "Epoch #2: 129641it [00:52, 2471.00it/s, bl_rew=78.11, env_step=259210, len=12, loss=-91.831, n/ep=10000, n/st=129641, rew=109.50]\n"
     ]
    },
    {
     "name": "stdout",
     "output_type": "stream",
     "text": [
      "Epoch #2: test_reward: 111.085908 ± 27.134823, best_reward: 106.623663 ± 24.557543 in #0\n",
      "Epoch: 2\n",
      "{'test_reward': 111.08590825999998, 'test_reward_std': 27.13482255876721, 'best_reward': 106.62366298, 'best_reward_std': 24.557542980627105, 'best_epoch': 0, 'loss': -91.83076099395753, 'gradient_step': 1012, 'env_step': 259210, 'rew': 109.49719065000001, 'bl_rew': 78.11131017999999, 'len': 12, 'n/ep': 10000, 'n/st': 129641}\n",
      "\n",
      "\n"
     ]
    },
    {
     "name": "stderr",
     "output_type": "stream",
     "text": [
      "Epoch #3: 130640it [00:52, 2479.05it/s, bl_rew=78.11, env_step=389850, len=13, loss=-177.827, n/ep=10000, n/st=130640, rew=110.89]\n"
     ]
    },
    {
     "name": "stdout",
     "output_type": "stream",
     "text": [
      "Epoch #3: test_reward: 105.350171 ± 25.057833, best_reward: 105.350171 ± 25.057833 in #3\n",
      "Epoch: 3\n",
      "{'test_reward': 105.3501713, 'test_reward_std': 25.05783347064152, 'best_reward': 105.3501713, 'best_reward_std': 25.05783347064152, 'best_epoch': 3, 'loss': -177.8274383544922, 'gradient_step': 1522, 'env_step': 389850, 'rew': 110.88921300999999, 'bl_rew': 78.11131017999999, 'len': 13, 'n/ep': 10000, 'n/st': 130640}\n",
      "\n",
      "\n"
     ]
    },
    {
     "name": "stderr",
     "output_type": "stream",
     "text": [
      "Epoch #4: 129807it [00:51, 2518.04it/s, bl_rew=78.11, env_step=519657, len=12, loss=-63.414, n/ep=10000, n/st=129807, rew=105.63]\n"
     ]
    },
    {
     "name": "stdout",
     "output_type": "stream",
     "text": [
      "Epoch #4: test_reward: 113.702236 ± 28.152722, best_reward: 105.350171 ± 25.057833 in #3\n",
      "Epoch: 4\n",
      "{'test_reward': 113.70223576, 'test_reward_std': 28.152722050866437, 'best_reward': 105.3501713, 'best_reward_std': 25.05783347064152, 'best_epoch': 3, 'loss': -63.41420684814453, 'gradient_step': 2029, 'env_step': 519657, 'rew': 105.63492522, 'bl_rew': 78.11131017999999, 'len': 12, 'n/ep': 10000, 'n/st': 129807}\n",
      "\n",
      "\n"
     ]
    },
    {
     "name": "stderr",
     "output_type": "stream",
     "text": [
      "Epoch #5: 130626it [00:51, 2513.42it/s, bl_rew=78.11, env_step=650283, len=13, loss=-109.419, n/ep=10000, n/st=130626, rew=113.44]\n"
     ]
    },
    {
     "name": "stdout",
     "output_type": "stream",
     "text": [
      "Epoch #5: test_reward: 106.174680 ± 25.749970, best_reward: 105.350171 ± 25.057833 in #3\n",
      "Epoch: 5\n",
      "{'test_reward': 106.17467966, 'test_reward_std': 25.74996991211975, 'best_reward': 105.3501713, 'best_reward_std': 25.05783347064152, 'best_epoch': 3, 'loss': -109.41878604888916, 'gradient_step': 2539, 'env_step': 650283, 'rew': 113.43621727999998, 'bl_rew': 78.11131018, 'len': 13, 'n/ep': 10000, 'n/st': 130626}\n",
      "\n",
      "\n"
     ]
    },
    {
     "name": "stderr",
     "output_type": "stream",
     "text": [
      "Epoch #6: 130006it [00:51, 2536.59it/s, bl_rew=78.11, env_step=780289, len=13, loss=-46.576, n/ep=10000, n/st=130006, rew=105.87]\n"
     ]
    },
    {
     "name": "stdout",
     "output_type": "stream",
     "text": [
      "Epoch #6: test_reward: 108.204320 ± 27.415812, best_reward: 105.350171 ± 25.057833 in #3\n",
      "Epoch: 6\n",
      "{'test_reward': 108.2043199, 'test_reward_std': 27.415811838102222, 'best_reward': 105.3501713, 'best_reward_std': 25.05783347064152, 'best_epoch': 3, 'loss': -46.576092357635495, 'gradient_step': 3046, 'env_step': 780289, 'rew': 105.86624117999999, 'bl_rew': 78.11131017999999, 'len': 13, 'n/ep': 10000, 'n/st': 130006}\n",
      "\n",
      "\n"
     ]
    },
    {
     "name": "stderr",
     "output_type": "stream",
     "text": [
      "Epoch #7: 129922it [00:51, 2524.32it/s, bl_rew=78.11, env_step=910211, len=12, loss=-101.437, n/ep=10000, n/st=129922, rew=107.73]\n"
     ]
    },
    {
     "name": "stdout",
     "output_type": "stream",
     "text": [
      "Epoch #7: test_reward: 102.824374 ± 24.827165, best_reward: 102.824374 ± 24.827165 in #7\n",
      "Epoch: 7\n",
      "{'test_reward': 102.82437396, 'test_reward_std': 24.82716524543086, 'best_reward': 102.82437396, 'best_reward_std': 24.82716524543086, 'best_epoch': 7, 'loss': -101.43694030761719, 'gradient_step': 3553, 'env_step': 910211, 'rew': 107.72942428000002, 'bl_rew': 78.11131018, 'len': 12, 'n/ep': 10000, 'n/st': 129922}\n",
      "\n",
      "\n"
     ]
    },
    {
     "name": "stderr",
     "output_type": "stream",
     "text": [
      "Epoch #8: 129754it [00:52, 2483.08it/s, bl_rew=78.11, env_step=1039965, len=12, loss=-55.977, n/ep=10000, n/st=129754, rew=103.25]\n"
     ]
    },
    {
     "name": "stdout",
     "output_type": "stream",
     "text": [
      "Epoch #8: test_reward: 100.142739 ± 27.723883, best_reward: 100.142739 ± 27.723883 in #8\n",
      "Epoch: 8\n",
      "{'test_reward': 100.14273894, 'test_reward_std': 27.723883464518273, 'best_reward': 100.14273894, 'best_reward_std': 27.723883464518273, 'best_epoch': 8, 'loss': -55.976720008850094, 'gradient_step': 4059, 'env_step': 1039965, 'rew': 103.25210704999999, 'bl_rew': 78.11131018, 'len': 12, 'n/ep': 10000, 'n/st': 129754}\n",
      "\n",
      "\n"
     ]
    },
    {
     "name": "stderr",
     "output_type": "stream",
     "text": [
      "Epoch #9: 129713it [00:51, 2539.38it/s, bl_rew=78.11, env_step=1169678, len=12, loss=-65.847, n/ep=10000, n/st=129713, rew=100.32]\n"
     ]
    },
    {
     "name": "stdout",
     "output_type": "stream",
     "text": [
      "Epoch #9: test_reward: 110.653055 ± 29.290365, best_reward: 100.142739 ± 27.723883 in #8\n",
      "Epoch: 9\n",
      "{'test_reward': 110.65305538000001, 'test_reward_std': 29.29036545076082, 'best_reward': 100.14273894, 'best_reward_std': 27.723883464518273, 'best_epoch': 8, 'loss': -65.84714431762696, 'gradient_step': 4565, 'env_step': 1169678, 'rew': 100.31506087999999, 'bl_rew': 78.11131017999999, 'len': 12, 'n/ep': 10000, 'n/st': 129713}\n",
      "\n",
      "\n"
     ]
    },
    {
     "name": "stderr",
     "output_type": "stream",
     "text": [
      "Epoch #10: 129596it [00:51, 2531.33it/s, bl_rew=78.11, env_step=1299274, len=12, loss=-98.275, n/ep=10000, n/st=129596, rew=110.23]\n"
     ]
    },
    {
     "name": "stdout",
     "output_type": "stream",
     "text": [
      "Epoch #10: test_reward: 98.463466 ± 24.610580, best_reward: 98.463466 ± 24.610580 in #10\n",
      "Epoch: 10\n",
      "{'test_reward': 98.46346640000002, 'test_reward_std': 24.610579632921514, 'best_reward': 98.46346640000002, 'best_reward_std': 24.610579632921514, 'best_epoch': 10, 'loss': -98.27487888336182, 'gradient_step': 5071, 'env_step': 1299274, 'rew': 110.23129506999999, 'bl_rew': 78.11131017999999, 'len': 12, 'n/ep': 10000, 'n/st': 129596}\n",
      "\n",
      "\n"
     ]
    },
    {
     "name": "stderr",
     "output_type": "stream",
     "text": [
      "Epoch #11: 129788it [00:50, 2545.76it/s, bl_rew=78.11, env_step=1429062, len=12, loss=-22.659, n/ep=10000, n/st=129788, rew=97.60]\n"
     ]
    },
    {
     "name": "stdout",
     "output_type": "stream",
     "text": [
      "Epoch #11: test_reward: 100.966105 ± 25.055039, best_reward: 98.463466 ± 24.610580 in #10\n",
      "Epoch: 11\n",
      "{'test_reward': 100.96610530000001, 'test_reward_std': 25.05503922242785, 'best_reward': 98.46346640000002, 'best_reward_std': 24.610579632921514, 'best_epoch': 10, 'loss': -22.658677453994752, 'gradient_step': 5577, 'env_step': 1429062, 'rew': 97.60089761, 'bl_rew': 78.11131018, 'len': 12, 'n/ep': 10000, 'n/st': 129788}\n",
      "\n",
      "\n"
     ]
    },
    {
     "name": "stderr",
     "output_type": "stream",
     "text": [
      "Epoch #12: 129777it [00:52, 2494.62it/s, bl_rew=78.11, env_step=1558839, len=12, loss=-79.387, n/ep=10000, n/st=129777, rew=100.95]\n"
     ]
    },
    {
     "name": "stdout",
     "output_type": "stream",
     "text": [
      "Epoch #12: test_reward: 96.961911 ± 25.151047, best_reward: 96.961911 ± 25.151047 in #12\n",
      "Epoch: 12\n",
      "{'test_reward': 96.96191082, 'test_reward_std': 25.151046597540486, 'best_reward': 96.96191082, 'best_reward_std': 25.151046597540486, 'best_epoch': 12, 'loss': -79.38671657562256, 'gradient_step': 6083, 'env_step': 1558839, 'rew': 100.95106331, 'bl_rew': 78.11131017999999, 'len': 12, 'n/ep': 10000, 'n/st': 129777}\n",
      "\n",
      "\n"
     ]
    },
    {
     "name": "stderr",
     "output_type": "stream",
     "text": [
      "Epoch #13: 129666it [00:53, 2427.49it/s, bl_rew=78.11, env_step=1688505, len=12, loss=-63.223, n/ep=10000, n/st=129666, rew=97.02]\n"
     ]
    },
    {
     "name": "stdout",
     "output_type": "stream",
     "text": [
      "Epoch #13: test_reward: 110.246671 ± 28.846224, best_reward: 96.961911 ± 25.151047 in #12\n",
      "Epoch: 13\n",
      "{'test_reward': 110.24667113999999, 'test_reward_std': 28.84622439382834, 'best_reward': 96.96191082, 'best_reward_std': 25.151046597540486, 'best_epoch': 12, 'loss': -63.22259313583374, 'gradient_step': 6589, 'env_step': 1688505, 'rew': 97.02026707000002, 'bl_rew': 78.11131018, 'len': 12, 'n/ep': 10000, 'n/st': 129666}\n",
      "\n",
      "\n"
     ]
    },
    {
     "name": "stderr",
     "output_type": "stream",
     "text": [
      "Epoch #14: 129744it [00:52, 2489.05it/s, bl_rew=78.11, env_step=1818249, len=12, loss=-170.169, n/ep=10000, n/st=129744, rew=110.11]\n"
     ]
    },
    {
     "name": "stdout",
     "output_type": "stream",
     "text": [
      "Epoch #14: test_reward: 97.266869 ± 24.949202, best_reward: 96.961911 ± 25.151047 in #12\n",
      "Epoch: 14\n",
      "{'test_reward': 97.26686938, 'test_reward_std': 24.949202322476292, 'best_reward': 96.96191082, 'best_reward_std': 25.151046597540486, 'best_epoch': 12, 'loss': -170.16889015197754, 'gradient_step': 7095, 'env_step': 1818249, 'rew': 110.11401778, 'bl_rew': 78.11131018, 'len': 12, 'n/ep': 10000, 'n/st': 129744}\n",
      "\n",
      "\n"
     ]
    },
    {
     "name": "stderr",
     "output_type": "stream",
     "text": [
      "Epoch #15: 129723it [00:53, 2414.09it/s, bl_rew=78.11, env_step=1947972, len=12, loss=-61.347, n/ep=10000, n/st=129723, rew=96.58]\n"
     ]
    },
    {
     "name": "stdout",
     "output_type": "stream",
     "text": [
      "Epoch #15: test_reward: 109.724036 ± 28.304761, best_reward: 96.961911 ± 25.151047 in #12\n",
      "Epoch: 15\n",
      "{'test_reward': 109.72403584, 'test_reward_std': 28.304760848697583, 'best_reward': 96.96191082, 'best_reward_std': 25.151046597540486, 'best_epoch': 12, 'loss': -61.3472269821167, 'gradient_step': 7601, 'env_step': 1947972, 'rew': 96.58040813, 'bl_rew': 78.11131018, 'len': 12, 'n/ep': 10000, 'n/st': 129723}\n",
      "\n",
      "\n"
     ]
    },
    {
     "name": "stderr",
     "output_type": "stream",
     "text": [
      "Epoch #16: 129666it [00:52, 2454.57it/s, bl_rew=78.11, env_step=2077638, len=12, loss=-171.838, n/ep=10000, n/st=129666, rew=110.00]\n"
     ]
    },
    {
     "name": "stdout",
     "output_type": "stream",
     "text": [
      "Epoch #16: test_reward: 97.923395 ± 25.174286, best_reward: 96.961911 ± 25.151047 in #12\n",
      "Epoch: 16\n",
      "{'test_reward': 97.92339488, 'test_reward_std': 25.174285539279516, 'best_reward': 96.96191082, 'best_reward_std': 25.151046597540486, 'best_epoch': 12, 'loss': -171.83830520629883, 'gradient_step': 8107, 'env_step': 2077638, 'rew': 110.00160213, 'bl_rew': 78.11131017999999, 'len': 12, 'n/ep': 10000, 'n/st': 129666}\n",
      "\n",
      "\n"
     ]
    },
    {
     "name": "stderr",
     "output_type": "stream",
     "text": [
      "Epoch #17: 129735it [00:53, 2446.22it/s, bl_rew=78.11, env_step=2207373, len=12, loss=-48.235, n/ep=10000, n/st=129735, rew=97.60]\n"
     ]
    },
    {
     "name": "stdout",
     "output_type": "stream",
     "text": [
      "Epoch #17: test_reward: 104.488696 ± 25.473626, best_reward: 96.961911 ± 25.151047 in #12\n",
      "Epoch: 17\n",
      "{'test_reward': 104.48869638000001, 'test_reward_std': 25.473625556388097, 'best_reward': 96.96191082, 'best_reward_std': 25.151046597540486, 'best_epoch': 12, 'loss': -48.234826164245604, 'gradient_step': 8613, 'env_step': 2207373, 'rew': 97.59503054999999, 'bl_rew': 78.11131018, 'len': 12, 'n/ep': 10000, 'n/st': 129735}\n",
      "\n",
      "\n"
     ]
    },
    {
     "name": "stderr",
     "output_type": "stream",
     "text": [
      "Epoch #18: 129959it [00:52, 2464.94it/s, bl_rew=78.11, env_step=2337332, len=12, loss=-70.307, n/ep=10000, n/st=129959, rew=104.21]\n"
     ]
    },
    {
     "name": "stdout",
     "output_type": "stream",
     "text": [
      "Epoch #18: test_reward: 101.673953 ± 24.736401, best_reward: 96.961911 ± 25.151047 in #12\n",
      "Epoch: 18\n",
      "{'test_reward': 101.67395280000001, 'test_reward_std': 24.73640093023292, 'best_reward': 96.96191082, 'best_reward_std': 25.151046597540486, 'best_epoch': 12, 'loss': -70.30738418579102, 'gradient_step': 9120, 'env_step': 2337332, 'rew': 104.2096876, 'bl_rew': 78.11131018, 'len': 12, 'n/ep': 10000, 'n/st': 129959}\n",
      "\n",
      "\n"
     ]
    },
    {
     "name": "stderr",
     "output_type": "stream",
     "text": [
      "Epoch #19: 129775it [00:52, 2469.81it/s, bl_rew=78.11, env_step=2467107, len=12, loss=-59.858, n/ep=10000, n/st=129775, rew=101.43]\n"
     ]
    },
    {
     "name": "stdout",
     "output_type": "stream",
     "text": [
      "Epoch #19: test_reward: 105.372613 ± 25.701373, best_reward: 96.961911 ± 25.151047 in #12\n",
      "Epoch: 19\n",
      "{'test_reward': 105.37261269999999, 'test_reward_std': 25.701372608343718, 'best_reward': 96.96191082, 'best_reward_std': 25.151046597540486, 'best_epoch': 12, 'loss': -59.8581464099884, 'gradient_step': 9626, 'env_step': 2467107, 'rew': 101.43091208999999, 'bl_rew': 78.11131017999999, 'len': 12, 'n/ep': 10000, 'n/st': 129775}\n",
      "\n",
      "\n"
     ]
    },
    {
     "name": "stderr",
     "output_type": "stream",
     "text": [
      "Epoch #20: 129895it [00:52, 2460.89it/s, bl_rew=78.11, env_step=2597002, len=12, loss=-55.750, n/ep=10000, n/st=129895, rew=104.23]\n"
     ]
    },
    {
     "name": "stdout",
     "output_type": "stream",
     "text": [
      "Epoch #20: test_reward: 111.329647 ± 28.089414, best_reward: 96.961911 ± 25.151047 in #12\n",
      "Epoch: 20\n",
      "{'test_reward': 111.32964714000002, 'test_reward_std': 28.089413998419754, 'best_reward': 96.96191082, 'best_reward_std': 25.151046597540486, 'best_epoch': 12, 'loss': -55.75001344680786, 'gradient_step': 10133, 'env_step': 2597002, 'rew': 104.23274312000001, 'bl_rew': 78.11131017999999, 'len': 12, 'n/ep': 10000, 'n/st': 129895}\n",
      "\n",
      "\n"
     ]
    },
    {
     "name": "stderr",
     "output_type": "stream",
     "text": [
      "Epoch #21: 129993it [00:52, 2485.27it/s, bl_rew=78.11, env_step=2726995, len=12, loss=-198.478, n/ep=10000, n/st=129993, rew=111.58]\n"
     ]
    },
    {
     "name": "stdout",
     "output_type": "stream",
     "text": [
      "Epoch #21: test_reward: 103.148343 ± 25.629850, best_reward: 96.961911 ± 25.151047 in #12\n",
      "Epoch: 21\n",
      "{'test_reward': 103.14834332, 'test_reward_std': 25.62984972739691, 'best_reward': 96.96191082, 'best_reward_std': 25.151046597540486, 'best_epoch': 12, 'loss': -198.47824508666992, 'gradient_step': 10640, 'env_step': 2726995, 'rew': 111.57898384999999, 'bl_rew': 78.11131017999999, 'len': 12, 'n/ep': 10000, 'n/st': 129993}\n",
      "\n",
      "\n"
     ]
    },
    {
     "name": "stderr",
     "output_type": "stream",
     "text": [
      "Epoch #22: 129705it [00:52, 2467.20it/s, bl_rew=78.11, env_step=2856700, len=12, loss=-55.002, n/ep=10000, n/st=129705, rew=102.79]\n"
     ]
    },
    {
     "name": "stdout",
     "output_type": "stream",
     "text": [
      "Epoch #22: test_reward: 98.966874 ± 23.668550, best_reward: 96.961911 ± 25.151047 in #12\n",
      "Epoch: 22\n",
      "{'test_reward': 98.96687383999999, 'test_reward_std': 23.66854973910619, 'best_reward': 96.96191082, 'best_reward_std': 25.151046597540486, 'best_epoch': 12, 'loss': -55.00185277938843, 'gradient_step': 11146, 'env_step': 2856700, 'rew': 102.78866645999999, 'bl_rew': 78.11131018, 'len': 12, 'n/ep': 10000, 'n/st': 129705}\n",
      "\n",
      "\n"
     ]
    },
    {
     "name": "stderr",
     "output_type": "stream",
     "text": [
      "Epoch #23: 129507it [00:52, 2486.28it/s, bl_rew=78.11, env_step=2986207, len=12, loss=-54.603, n/ep=10000, n/st=129507, rew=98.48]\n"
     ]
    },
    {
     "name": "stdout",
     "output_type": "stream",
     "text": [
      "Epoch #23: test_reward: 105.843140 ± 25.733857, best_reward: 96.961911 ± 25.151047 in #12\n",
      "Epoch: 23\n",
      "{'test_reward': 105.84314032, 'test_reward_std': 25.733857087129287, 'best_reward': 96.96191082, 'best_reward_std': 25.151046597540486, 'best_epoch': 12, 'loss': -54.602982177734376, 'gradient_step': 11651, 'env_step': 2986207, 'rew': 98.47959631999998, 'bl_rew': 78.11131017999999, 'len': 12, 'n/ep': 10000, 'n/st': 129507}\n",
      "\n",
      "\n"
     ]
    },
    {
     "name": "stderr",
     "output_type": "stream",
     "text": [
      "Epoch #24: 130131it [00:52, 2500.70it/s, bl_rew=78.11, env_step=3116338, len=13, loss=-109.417, n/ep=10000, n/st=130131, rew=105.42]\n"
     ]
    },
    {
     "name": "stdout",
     "output_type": "stream",
     "text": [
      "Epoch #24: test_reward: 100.496082 ± 24.415153, best_reward: 96.961911 ± 25.151047 in #12\n",
      "Epoch: 24\n",
      "{'test_reward': 100.49608202, 'test_reward_std': 24.415153229848602, 'best_reward': 96.96191082, 'best_reward_std': 25.151046597540486, 'best_epoch': 12, 'loss': -109.41749183654785, 'gradient_step': 12159, 'env_step': 3116338, 'rew': 105.42479398, 'bl_rew': 78.11131017999999, 'len': 13, 'n/ep': 10000, 'n/st': 130131}\n",
      "\n",
      "\n"
     ]
    },
    {
     "name": "stderr",
     "output_type": "stream",
     "text": [
      "Epoch #25: 129758it [00:52, 2494.87it/s, bl_rew=78.11, env_step=3246096, len=12, loss=-77.674, n/ep=10000, n/st=129758, rew=99.99]\n"
     ]
    },
    {
     "name": "stdout",
     "output_type": "stream",
     "text": [
      "Epoch #25: test_reward: 102.505693 ± 26.860813, best_reward: 96.961911 ± 25.151047 in #12\n",
      "Epoch: 25\n",
      "{'test_reward': 102.50569322, 'test_reward_std': 26.860813366931986, 'best_reward': 96.96191082, 'best_reward_std': 25.151046597540486, 'best_epoch': 12, 'loss': -77.67389636993408, 'gradient_step': 12665, 'env_step': 3246096, 'rew': 99.99263925, 'bl_rew': 78.11131018, 'len': 12, 'n/ep': 10000, 'n/st': 129758}\n",
      "\n",
      "\n"
     ]
    },
    {
     "name": "stderr",
     "output_type": "stream",
     "text": [
      "Epoch #26: 129704it [00:52, 2483.78it/s, bl_rew=78.11, env_step=3375800, len=12, loss=-71.166, n/ep=10000, n/st=129704, rew=102.06]\n"
     ]
    },
    {
     "name": "stdout",
     "output_type": "stream",
     "text": [
      "Epoch #26: test_reward: 98.499048 ± 26.359719, best_reward: 96.961911 ± 25.151047 in #12\n",
      "Epoch: 26\n",
      "{'test_reward': 98.49904828000001, 'test_reward_std': 26.35971897276693, 'best_reward': 96.96191082, 'best_reward_std': 25.151046597540486, 'best_epoch': 12, 'loss': -71.1657861328125, 'gradient_step': 13171, 'env_step': 3375800, 'rew': 102.05795673, 'bl_rew': 78.11131018, 'len': 12, 'n/ep': 10000, 'n/st': 129704}\n",
      "\n",
      "\n"
     ]
    },
    {
     "name": "stderr",
     "output_type": "stream",
     "text": [
      "Epoch #27: 129655it [00:52, 2485.05it/s, bl_rew=78.11, env_step=3505455, len=12, loss=-8.908, n/ep=10000, n/st=129655, rew=97.58]\n"
     ]
    },
    {
     "name": "stdout",
     "output_type": "stream",
     "text": [
      "Epoch #27: test_reward: 97.161827 ± 25.408698, best_reward: 96.961911 ± 25.151047 in #12\n",
      "Epoch: 27\n",
      "{'test_reward': 97.16182692, 'test_reward_std': 25.408698415563507, 'best_reward': 96.96191082, 'best_reward_std': 25.151046597540486, 'best_epoch': 12, 'loss': -8.908301126956939, 'gradient_step': 13677, 'env_step': 3505455, 'rew': 97.57571813, 'bl_rew': 78.11131018, 'len': 12, 'n/ep': 10000, 'n/st': 129655}\n",
      "\n",
      "\n"
     ]
    },
    {
     "name": "stderr",
     "output_type": "stream",
     "text": [
      "Epoch #28: 129682it [00:52, 2486.49it/s, bl_rew=78.11, env_step=3635137, len=12, loss=-39.474, n/ep=10000, n/st=129682, rew=96.97]\n"
     ]
    },
    {
     "name": "stdout",
     "output_type": "stream",
     "text": [
      "Epoch #28: test_reward: 98.508894 ± 25.270373, best_reward: 96.961911 ± 25.151047 in #12\n",
      "Epoch: 28\n",
      "{'test_reward': 98.50889414, 'test_reward_std': 25.270372515361696, 'best_reward': 96.96191082, 'best_reward_std': 25.151046597540486, 'best_epoch': 12, 'loss': -39.47365618705749, 'gradient_step': 14183, 'env_step': 3635137, 'rew': 96.96954815, 'bl_rew': 78.11131018, 'len': 12, 'n/ep': 10000, 'n/st': 129682}\n",
      "\n",
      "\n"
     ]
    },
    {
     "name": "stderr",
     "output_type": "stream",
     "text": [
      "Epoch #29: 129862it [00:51, 2542.52it/s, bl_rew=78.11, env_step=3764999, len=12, loss=-76.446, n/ep=10000, n/st=129862, rew=98.41]\n"
     ]
    },
    {
     "name": "stdout",
     "output_type": "stream",
     "text": [
      "Epoch #29: test_reward: 90.470408 ± 23.438057, best_reward: 90.470408 ± 23.438057 in #29\n",
      "Epoch: 29\n",
      "{'test_reward': 90.47040794, 'test_reward_std': 23.438057231633405, 'best_reward': 90.47040794, 'best_reward_std': 23.438057231633405, 'best_epoch': 29, 'loss': -76.44623111724853, 'gradient_step': 14690, 'env_step': 3764999, 'rew': 98.40909488999999, 'bl_rew': 78.11131018, 'len': 12, 'n/ep': 10000, 'n/st': 129862}\n",
      "\n",
      "\n"
     ]
    },
    {
     "name": "stderr",
     "output_type": "stream",
     "text": [
      "Epoch #30: 129715it [00:52, 2455.83it/s, bl_rew=78.11, env_step=3894714, len=12, loss=-2.015, n/ep=10000, n/st=129715, rew=90.42]\n"
     ]
    },
    {
     "name": "stdout",
     "output_type": "stream",
     "text": [
      "Epoch #30: test_reward: 89.804985 ± 22.609892, best_reward: 89.804985 ± 22.609892 in #30\n",
      "Epoch: 30\n",
      "{'test_reward': 89.80498517999999, 'test_reward_std': 22.609892114057565, 'best_reward': 89.80498517999999, 'best_reward_std': 22.609892114057565, 'best_epoch': 30, 'loss': -2.0148668003082277, 'gradient_step': 15196, 'env_step': 3894714, 'rew': 90.41550611000001, 'bl_rew': 78.11131018, 'len': 12, 'n/ep': 10000, 'n/st': 129715}\n",
      "\n",
      "\n"
     ]
    }
   ],
   "source": [
    "# Train the model and store epoch stats in a dataframe\n",
    "\n",
    "losses = []\n",
    "train_stat = []\n",
    "\n",
    "for epoch, epoch_stat, info in trainer:\n",
    "    print(\"Epoch:\", epoch)\n",
    "    print(epoch_stat)\n",
    "    print(\"\\n\")\n",
    "    #print(info)\n",
    "    losses.append(-epoch_stat[\"loss\"])\n",
    "    epoch_stat[\"epoch\"] = epoch\n",
    "    train_stat.append(epoch_stat)\n",
    "    \n",
    "train_df_cols = epoch_stat.keys()\n",
    "train_df = pd.DataFrame(train_stat, columns = train_df_cols)\n",
    "#train_df"
   ]
  },
  {
   "cell_type": "code",
   "execution_count": 15,
   "metadata": {},
   "outputs": [
    {
     "data": {
      "image/png": "[encoded data removed]",
      "text/plain": [
       "<Figure size 2000x500 with 2 Axes>"
      ]
     },
     "metadata": {},
     "output_type": "display_data"
    }
   ],
   "source": [
    "# Plotting training loss and avg rewards over iterations\n",
    "\n",
    "n_epochs = training_params[\"n_epochs\"]\n",
    "train_df[\"loss\"] = losses\n",
    "x = [e for e in range (n_epochs)]\n",
    "default_x_ticks = range(len(x))\n",
    "fig = plt.figure(figsize=(20 ,5))\n",
    "\n",
    "\n",
    "plt.subplot(121)\n",
    "train_df[\"loss\"].plot(style='o--', label=\"train loss\")\n",
    "train_df['loss'].expanding().mean().plot(style='k-', label=\"cumm_loss\")\n",
    "plt.legend()\n",
    "plt.xlabel(\"epoch\")\n",
    "plt.xticks(default_x_ticks, x, rotation=20)\n",
    "plt.ylabel(\"training_loss\")\n",
    "\n",
    "\n",
    "plt.subplot(122)\n",
    "train_df[\"rew\"].plot(style='bo--', label=\"avg train reward\")\n",
    "train_df['rew'].expanding().mean().plot(style='k-', label=\"cumm_rew\")\n",
    "train_df[\"bl_rew\"].plot(style='r--', label=\"baseline reward\")\n",
    "plt.xlabel(\"epoch\")\n",
    "plt.xticks(default_x_ticks, x, rotation=20)\n",
    "plt.ylabel(\"training vs baseline average rewards\")\n",
    "\n",
    "\n",
    "plt.legend()\n",
    "plt.show()"
   ]
  },
  {
   "cell_type": "code",
   "execution_count": null,
   "metadata": {},
   "outputs": [],
   "source": [
    "# Perform train and test collections on the trained model\n",
    "\n",
    "train_result = train_collector.collect(n_episode=len(load_train_graphs))\n",
    "test_result = test_collector.collect(n_episode=len(load_test_graphs))\n",
    "print(test_result)\n",
    "train_df"
   ]
  },
  {
   "cell_type": "code",
   "execution_count": null,
   "metadata": {},
   "outputs": [],
   "source": [
    "test_result"
   ]
  },
  {
   "cell_type": "code",
   "execution_count": null,
   "metadata": {},
   "outputs": [],
   "source": [
    "# Studying and Plotting collected train and test solutions (distance values are abs(rewards))\n",
    "\n",
    "def get_distances(rewards):\n",
    "    distances = np.array([round(abs(rew),3) for rew in rewards])\n",
    "    return distances\n",
    "\n",
    "\n",
    "# Get computed distance values from the reward list\n",
    "test_distances = get_distances(test_result[\"rews\"])\n",
    "test_bl_distances = get_distances(test_result[\"bl_rews\"])\n",
    "\n",
    "train_distances = get_distances(train_result[\"rews\"])\n",
    "train_bl_distances = get_distances(train_result[\"bl_rews\"])"
   ]
  },
  {
   "cell_type": "code",
   "execution_count": null,
   "metadata": {},
   "outputs": [],
   "source": [
    "avg_test_rew, best_test_rew  = round(np.mean(test_distances, axis=0),3), np.min(test_distances, axis=0)\n",
    "avg_test_rew_bl, best_test_rew_bl = round(np.mean(test_bl_distances, axis=0),3), np.min(test_bl_distances, axis=0)\n",
    "\n",
    "\n",
    "avg_train_rew, best_train_rew  = round(np.mean(train_distances, axis=0),3), np.min(train_distances, axis=0)\n",
    "avg_train_rew_bl, best_train_rew_bl = round(np.mean(train_bl_distances, axis=0),3), np.min(train_bl_distances, axis=0)\n",
    "\n",
    "\n",
    "print(\"TEST RESULTS\")\n",
    "print(f\"Mean test reward: {avg_test_rew}\")\n",
    "print(f\"Best test reward: {best_test_rew}\")\n",
    "print(f\"\\nMean baseline reward: {avg_test_rew_bl}\")\n",
    "print(f\"Best baseline reward: {best_test_rew_bl}\")\n",
    "\n",
    "print(\"\\n----------------\\n\")\n",
    "print(\"TRAIN RESULTS\")\n",
    "print(f\"Mean train reward: {avg_train_rew}\")\n",
    "print(f\"Best train reward: {best_train_rew}\")\n",
    "print(f\"\\nMean baseline reward: {avg_train_rew_bl}\")\n",
    "print(f\"Best baseline reward: {best_train_rew_bl}\")"
   ]
  },
  {
   "cell_type": "code",
   "execution_count": null,
   "metadata": {},
   "outputs": [],
   "source": [
    "# Plotting test and train distance values\n",
    "\n",
    "fig = plt.figure(figsize=(15 ,8))\n",
    "\n",
    "pd.Series(train_distances).plot.kde(style='b-', label=\"train rewards\")\n",
    "pd.Series(test_distances).plot.kde(style='r-', label=\"test rewards\")\n",
    "\n",
    "pd.Series(train_bl_distances).plot.kde(style='b--', label=\"train baseline rewards\")\n",
    "pd.Series(test_bl_distances).plot.kde(style='r--', label=\"test baseline rewards\")\n",
    "\n",
    "plt.xlabel(\"Distance\")\n",
    "plt.ylabel(\"Probability Density\")\n",
    "plt.title(\"Model vs Baseline Distances (Test/Train)\", size=16)\n",
    "plt.legend()"
   ]
  },
  {
   "cell_type": "code",
   "execution_count": null,
   "metadata": {},
   "outputs": [],
   "source": [
    "# Gap between test distances and corresponding baseline solutions\n",
    "fig = plt.figure(figsize=(8 ,5)) \n",
    "\n",
    "gaps = []\n",
    "for i, dist in enumerate(test_distances):\n",
    "    gap = (test_distances[i] - test_bl_distances[i]) / test_bl_distances[i]\n",
    "    gaps.append(gap)\n",
    "    \n",
    "    \n",
    "gaps = np.sort(np.array(gaps))\n",
    "plt.hist(gaps, bins=10)\n",
    "#plt.plot(base)\n",
    "\n",
    "plt.xlabel(\"Sorting index\")\n",
    "plt.ylabel(\"Gap % vs Greedy Baseline\")\n",
    "plt.title(\"Test Distances Gap\", size=16)\n",
    "plt.legend()"
   ]
  },
  {
   "cell_type": "code",
   "execution_count": null,
   "metadata": {},
   "outputs": [],
   "source": [
    "test_distances"
   ]
  },
  {
   "cell_type": "code",
   "execution_count": null,
   "metadata": {},
   "outputs": [],
   "source": [
    "test_buffer_df = decode_buffer(test_replaybuffer)\n",
    "#train_buffer_df = decode_buffer(train_replaybuffer)\n",
    "test_buffer_df"
   ]
  },
  {
   "cell_type": "code",
   "execution_count": null,
   "metadata": {},
   "outputs": [],
   "source": [
    "test_buffer_df.head(50)"
   ]
  },
  {
   "cell_type": "code",
   "execution_count": null,
   "metadata": {},
   "outputs": [],
   "source": [
    "#train_rewards_df = train_buffer_df.groupby(['env_id']).agg(action_count=('action', 'count'), \n",
    "#                                        reward=('reward', 'sum'), \n",
    "#                                       bl_reward=('bl_reward', 'sum'))\n",
    "#\n",
    "#train_rewards_df"
   ]
  },
  {
   "cell_type": "code",
   "execution_count": null,
   "metadata": {},
   "outputs": [],
   "source": [
    "test_rewards_df = test_buffer_df.groupby(['env_id']).agg(action_count=('action', 'count'), \n",
    "                                        reward=('reward', 'sum'), \n",
    "                                       bl_reward=('bl_reward', 'sum'))\n",
    "\n",
    "\n",
    "test_rewards_df[\"avg_reward\"] = test_rewards_df[\"reward\"] * training_params[\"graph_size\"] / test_rewards_df[\"action_count\"]\n",
    "test_rewards_df[\"avg_bl_reward\"] = test_rewards_df[\"bl_reward\"] * training_params[\"graph_size\"] / test_rewards_df[\"action_count\"]\n",
    "test_rewards_df[\"reward_gap\"] = test_rewards_df[\"avg_reward\"] - test_rewards_df[\"avg_bl_reward\"]\n",
    "test_rewards_df[\"gap\"] = test_rewards_df[\"reward_gap\"]*100 / test_rewards_df[\"avg_bl_reward\"]\n",
    "\n",
    "test_rewards_df.sort_values(\"gap\")"
   ]
  },
  {
   "cell_type": "code",
   "execution_count": null,
   "metadata": {
    "scrolled": true,
    "tags": []
   },
   "outputs": [],
   "source": [
    "tours, bl_tours = generate_tours(test_buffer_df, test_result)"
   ]
  },
  {
   "cell_type": "code",
   "execution_count": null,
   "metadata": {},
   "outputs": [],
   "source": [
    "tours[:10]"
   ]
  },
  {
   "cell_type": "code",
   "execution_count": null,
   "metadata": {},
   "outputs": [],
   "source": [
    "idx = 50\n",
    "\n",
    "graph_data = load_test_graphs[idx]\n",
    "graph_route = tours[idx]\n",
    "graph_route_bl = bl_tours[idx]\n",
    "\n",
    "fig, ax = plt.subplots(figsize=(5, 5))\n",
    "plot_vehicle_routes(graph_data, graph_route, ax, visualize_demands=False, demand_scale=50, round_demand=True)\n",
    "\n",
    "#plt.subplot(122)\n",
    "#plot_vehicle_routes(graph_data, graph_route_bl, ax, visualize_demands=False, demand_scale=50, round_demand=True)"
   ]
  },
  {
   "cell_type": "code",
   "execution_count": null,
   "metadata": {},
   "outputs": [],
   "source": [
    "fig, ax = plt.subplots(figsize=(5, 5))\n",
    "plot_vehicle_routes(graph_data, graph_route_bl, ax, visualize_demands=False, demand_scale=50, round_demand=True)"
   ]
  },
  {
   "cell_type": "code",
   "execution_count": null,
   "metadata": {},
   "outputs": [],
   "source": [
    "# Save the buffer and training results as a csv_file\n",
    "\n",
    "#buff_file_path = \"./results/buffer/\" + f\"test_buffer_exp{exp_num}_train{len(load_train_graphs)}_test{len(load_test_graphs)}.csv\"\n",
    "#train_file_path = \"./results/training/\" + f\"train_results_exp{exp_num}_train{len(load_train_graphs)}_test{len(load_test_graphs)}.csv\"\n",
    "#\n",
    "#test_buffer_df.to_csv(buff_file_path)\n",
    "#train_df.to_csv(train_file_path)"
   ]
  },
  {
   "cell_type": "code",
   "execution_count": null,
   "metadata": {},
   "outputs": [],
   "source": [
    "## Save the trained model with current timestamp\n",
    "now = datetime.now()\n",
    "now = now.strftime(\"%m/%d/%Y|%H:%M:%S\")\n",
    "#\n",
    "file_path = \"./trained_models/\" + f\"model_AM_exp{exp_num}_{n_epochs}epochs -- ({str(now)}) train{len(load_train_graphs)}_test{len(load_test_graphs)}.pth\"\n",
    "torch.save(model.state_dict(), file_path)"
   ]
  },
  {
   "cell_type": "code",
   "execution_count": null,
   "metadata": {},
   "outputs": [],
   "source": [
    "#train_buffer_df = decode_buffer(train_replaybuffer)\n",
    "#train_buffer_df"
   ]
  },
  {
   "cell_type": "code",
   "execution_count": null,
   "metadata": {},
   "outputs": [],
   "source": [
    "# Save the buffer and training results as a csv_file\n",
    "\n",
    "#buff_file_path = \"./results/\" + f\"train_buffer_exp{exp_num}_train{len(load_train_graphs)}_test{len(load_test_graphs)}.csv\"\n",
    "#train_buffer_df.to_csv(buff_file_path)"
   ]
  },
  {
   "cell_type": "code",
   "execution_count": null,
   "metadata": {},
   "outputs": [],
   "source": [
    "#logs_base_dir = \"./logs\"\n",
    "#os.makedirs(logs_base_dir, exist_ok=True)\n",
    "#%tensorboard --logdir {logs_base_dir}"
   ]
  },
  {
   "cell_type": "code",
   "execution_count": null,
   "metadata": {},
   "outputs": [],
   "source": [
    "#pip uninstall tensorflow"
   ]
  },
  {
   "cell_type": "code",
   "execution_count": null,
   "metadata": {},
   "outputs": [],
   "source": [
    "#pip uninstall tensorboard"
   ]
  },
  {
   "cell_type": "code",
   "execution_count": null,
   "metadata": {},
   "outputs": [],
   "source": [
    "test_buffer_df"
   ]
  },
  {
   "cell_type": "code",
   "execution_count": null,
   "metadata": {},
   "outputs": [],
   "source": [
    "#import shutil\n",
    "#\n",
    "#file_name = \"RealisticVRP-dev\"\n",
    "#dir_name = \"./\"\n",
    "#\n",
    "#shutil.make_archive(file_name, 'zip', dir_name)"
   ]
  },
  {
   "cell_type": "code",
   "execution_count": null,
   "metadata": {},
   "outputs": [],
   "source": [
    "test_buffer_df.head(50)"
   ]
  },
  {
   "cell_type": "code",
   "execution_count": null,
   "metadata": {},
   "outputs": [],
   "source": []
  }
 ],
 "metadata": {
  "kernelspec": {
   "display_name": "default:Python",
   "language": "python",
   "name": "conda-env-default-py"
  },
  "language_info": {
   "codemirror_mode": {
    "name": "ipython",
    "version": 3
   },
   "file_extension": ".py",
   "mimetype": "text/x-python",
   "name": "python",
   "nbconvert_exporter": "python",
   "pygments_lexer": "ipython3",
   "version": "3.9.13"
  }
 },
 "nbformat": 4,
 "nbformat_minor": 4
}
